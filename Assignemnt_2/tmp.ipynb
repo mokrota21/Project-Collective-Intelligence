{
 "cells": [
  {
   "cell_type": "code",
   "execution_count": 7,
   "metadata": {},
   "outputs": [
    {
     "name": "stdout",
     "output_type": "stream",
     "text": [
      "w 0\n",
      "e 2\n",
      "r 3\n"
     ]
    }
   ],
   "source": [
    "d = {'w': 0, 'e': 2, 'r': 3}\n",
    "\n",
    "for key, val in d.items():\n",
    "    print(key, val)"
   ]
  }
 ],
 "metadata": {
  "kernelspec": {
   "display_name": ".venv",
   "language": "python",
   "name": "python3"
  },
  "language_info": {
   "codemirror_mode": {
    "name": "ipython",
    "version": 3
   },
   "file_extension": ".py",
   "mimetype": "text/x-python",
   "name": "python",
   "nbconvert_exporter": "python",
   "pygments_lexer": "ipython3",
   "version": "3.11.9"
  }
 },
 "nbformat": 4,
 "nbformat_minor": 2
}
