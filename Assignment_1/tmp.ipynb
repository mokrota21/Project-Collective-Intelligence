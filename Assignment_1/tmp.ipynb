{
 "cells": [
  {
   "cell_type": "code",
   "execution_count": 10,
   "metadata": {},
   "outputs": [],
   "source": [
    "d = [[31, 30], [25, 43], [21, 50], [19, 43], [23, 50], [22, 56], [13, 47], [26, 55], [20, 54], [19, 53], [26, 56], [16, 54], [21, 54], [16, 48]]\n",
    "\n",
    "l = [i[0] for i in d]\n",
    "t = [i[1] for i in d]\n",
    "\n",
    "s = 0\n",
    "sd = 0\n",
    "\n",
    "for i in l:\n",
    "    s += i\n",
    "\n",
    "for i in t:\n",
    "    sd += i\n"
   ]
  },
  {
   "cell_type": "code",
   "execution_count": 11,
   "metadata": {},
   "outputs": [],
   "source": [
    "mean_l = s / len(l)\n",
    "mean_t = sd / len(t)"
   ]
  },
  {
   "cell_type": "code",
   "execution_count": 12,
   "metadata": {},
   "outputs": [
    {
     "name": "stdout",
     "output_type": "stream",
     "text": [
      "21.285714285714285 49.5\n"
     ]
    }
   ],
   "source": [
    "print(mean_l, mean_t)"
   ]
  },
  {
   "cell_type": "code",
   "execution_count": 9,
   "metadata": {},
   "outputs": [
    {
     "name": "stdout",
     "output_type": "stream",
     "text": [
      "0.7579310344827586\n"
     ]
    }
   ],
   "source": [
    "p_join_global = mean / 50\n",
    "print(p_join_global)"
   ]
  }
 ],
 "metadata": {
  "kernelspec": {
   "display_name": ".venv",
   "language": "python",
   "name": "python3"
  },
  "language_info": {
   "codemirror_mode": {
    "name": "ipython",
    "version": 3
   },
   "file_extension": ".py",
   "mimetype": "text/x-python",
   "name": "python",
   "nbconvert_exporter": "python",
   "pygments_lexer": "ipython3",
   "version": "3.11.9"
  }
 },
 "nbformat": 4,
 "nbformat_minor": 2
}
